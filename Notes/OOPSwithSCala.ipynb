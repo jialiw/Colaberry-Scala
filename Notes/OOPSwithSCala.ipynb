{
 "cells": [
  {
   "cell_type": "markdown",
   "metadata": {},
   "source": [
    "## Importing Java into Scala\n",
    "*Scala for Java developer*"
   ]
  },
  {
   "cell_type": "code",
   "execution_count": 1,
   "metadata": {
    "collapsed": true
   },
   "outputs": [],
   "source": [
    "import java.util.{Date, Locale}"
   ]
  },
  {
   "cell_type": "code",
   "execution_count": 2,
   "metadata": {
    "collapsed": true
   },
   "outputs": [],
   "source": [
    "import java.text.DateFormat._"
   ]
  },
  {
   "cell_type": "code",
   "execution_count": 3,
   "metadata": {
    "collapsed": false
   },
   "outputs": [
    {
     "name": "stdout",
     "output_type": "stream",
     "text": [
      "25 April 2017\n"
     ]
    }
   ],
   "source": [
    "println(getDateInstance(LONG,Locale.UK) format new Date)"
   ]
  },
  {
   "cell_type": "code",
   "execution_count": 4,
   "metadata": {
    "collapsed": false
   },
   "outputs": [
    {
     "name": "stdout",
     "output_type": "stream",
     "text": [
      "April 25, 2017\n"
     ]
    }
   ],
   "source": [
    "println(getDateInstance(LONG,Locale.US) format new Date)"
   ]
  },
  {
   "cell_type": "code",
   "execution_count": 5,
   "metadata": {
    "collapsed": false
   },
   "outputs": [
    {
     "name": "stdout",
     "output_type": "stream",
     "text": [
      "25. April 2017\n"
     ]
    }
   ],
   "source": [
    "println(getDateInstance(LONG,Locale.GERMANY) format new Date)"
   ]
  },
  {
   "cell_type": "markdown",
   "metadata": {},
   "source": [
    "## Classes"
   ]
  },
  {
   "cell_type": "code",
   "execution_count": 15,
   "metadata": {
    "collapsed": true
   },
   "outputs": [],
   "source": [
    "class Person(name:String, age: Int) {\n",
    "    def name(): String = name\n",
    "    def age(): Int = age\n",
    "}"
   ]
  },
  {
   "cell_type": "code",
   "execution_count": 7,
   "metadata": {
    "collapsed": true
   },
   "outputs": [],
   "source": [
    "val p = new Person(\"A\", 15)"
   ]
  },
  {
   "cell_type": "code",
   "execution_count": 11,
   "metadata": {
    "collapsed": false
   },
   "outputs": [
    {
     "name": "stdout",
     "output_type": "stream",
     "text": [
      "A\n"
     ]
    }
   ],
   "source": [
    "println(p name)"
   ]
  },
  {
   "cell_type": "code",
   "execution_count": 16,
   "metadata": {
    "collapsed": false
   },
   "outputs": [
    {
     "data": {
      "text/plain": [
       "A"
      ]
     },
     "execution_count": 16,
     "metadata": {},
     "output_type": "execute_result"
    }
   ],
   "source": [
    "p.name"
   ]
  },
  {
   "cell_type": "code",
   "execution_count": 9,
   "metadata": {
    "collapsed": true
   },
   "outputs": [],
   "source": [
    "p age"
   ]
  },
  {
   "cell_type": "code",
   "execution_count": 10,
   "metadata": {
    "collapsed": false
   },
   "outputs": [
    {
     "name": "stdout",
     "output_type": "stream",
     "text": [
      "$line21.$read$$iwC$$iwC$Person@63d32b61\n"
     ]
    }
   ],
   "source": [
    "println(p)"
   ]
  },
  {
   "cell_type": "code",
   "execution_count": 12,
   "metadata": {
    "collapsed": false
   },
   "outputs": [
    {
     "data": {
      "text/plain": [
       "Name: Compile Error\n",
       "Message: <console>:26: error: value name is not a member of Person\n",
       "              p.name\n",
       "                ^\n",
       "StackTrace: "
      ]
     },
     "execution_count": 12,
     "metadata": {},
     "output_type": "execute_result"
    }
   ],
   "source": [
    "class Person(name:String, age: Int)\n",
    "val p = new Person(\"A\", 25)\n",
    "p.name\n",
    "\n",
    "// here it throws an error as Person class does not define name method or variable in the class and val p tries to call the parameter "
   ]
  },
  {
   "cell_type": "code",
   "execution_count": 17,
   "metadata": {
    "collapsed": false
   },
   "outputs": [
    {
     "data": {
      "text/plain": [
       "A"
      ]
     },
     "execution_count": 17,
     "metadata": {},
     "output_type": "execute_result"
    }
   ],
   "source": [
    "case class Person(name:String, age:Int) // case class \n",
    "val p = Person(\"A\", 25)\n",
    "p.name"
   ]
  },
  {
   "cell_type": "markdown",
   "metadata": {},
   "source": [
    "case class, every thing pass to case class will become member variable automatically\n",
    "print case class directly will print out class name, data past in(parameter)\n",
    "for case classes, no need to use \"new\" to initialize it\n",
    "when create case classes, it will also create object classes!"
   ]
  },
  {
   "cell_type": "code",
   "execution_count": 14,
   "metadata": {
    "collapsed": false
   },
   "outputs": [
    {
     "name": "stdout",
     "output_type": "stream",
     "text": [
      "Person(A,25)\n"
     ]
    }
   ],
   "source": [
    "println(p)"
   ]
  },
  {
   "cell_type": "code",
   "execution_count": 20,
   "metadata": {
    "collapsed": true
   },
   "outputs": [],
   "source": [
    "class Person (name: String, age:Int) {\n",
    "    def name():String = name\n",
    "    def age():Int = age\n",
    "    override def toString() = {\n",
    "        \"Person with name \" + name + \" at an age of \" + age \n",
    "    }\n",
    "}\n",
    "\n",
    "val p = new Person(\"ABC\", 45)"
   ]
  },
  {
   "cell_type": "code",
   "execution_count": 21,
   "metadata": {
    "collapsed": false
   },
   "outputs": [
    {
     "name": "stdout",
     "output_type": "stream",
     "text": [
      "Person with name ABC at an age of 45\n"
     ]
    }
   ],
   "source": [
    "println(p)"
   ]
  },
  {
   "cell_type": "code",
   "execution_count": 25,
   "metadata": {
    "collapsed": false
   },
   "outputs": [
    {
     "data": {
      "text/plain": [
       "true"
      ]
     },
     "execution_count": 25,
     "metadata": {},
     "output_type": "execute_result"
    }
   ],
   "source": [
    "case class Person (name:String, age:Int) \n",
    "\n",
    "val p = Person (\"A\", 25) //new is not required, uses Person.Apply() method instead\n",
    "p.name\n",
    "\n",
    "val q = Person (\"A\", 25)\n",
    "p == q // in case class, the return will be true while for normal class, p and q are different and return will be false.\n",
    "// because there is internal function inside case class to check whether the member variables are same or not (like only compare the value object inside)"
   ]
  },
  {
   "cell_type": "markdown",
   "metadata": {},
   "source": [
    "## Pattern Matching/Decomposition"
   ]
  },
  {
   "cell_type": "code",
   "execution_count": 27,
   "metadata": {
    "collapsed": false
   },
   "outputs": [
    {
     "name": "stdout",
     "output_type": "stream",
     "text": [
      "Sqaure: a:3 and b:6\n",
      "Rectangle: x: 4 and y:5\n"
     ]
    }
   ],
   "source": [
    "abstract class Shape\n",
    "case class Square (s:Int, t:Int) extends Shape\n",
    "case class Rectangle (l:Int, b: Int) extends Shape\n",
    "def printObj (x:Shape) = x match{\n",
    "    case Square (a,b) => println(\"Square: a:\" + a + \" and b:\" + b) // notice the arrow key in case \n",
    "    case Rectangle(x,y) => println(\"Rectangle: x: \" + x + \" and y:\" + y)\n",
    "}\n",
    "\n",
    "printObj(Square(3,6))\n",
    "printObj(Rectangle(4,5))"
   ]
  },
  {
   "cell_type": "code",
   "execution_count": null,
   "metadata": {
    "collapsed": true
   },
   "outputs": [],
   "source": []
  }
 ],
 "metadata": {
  "kernelspec": {
   "display_name": "Apache Toree - Scala",
   "language": "scala",
   "name": "apache_toree_scala"
  },
  "language_info": {
   "name": "scala",
   "version": "2.10.4"
  },
  "widgets": {
   "state": {},
   "version": "1.1.2"
  }
 },
 "nbformat": 4,
 "nbformat_minor": 0
}
