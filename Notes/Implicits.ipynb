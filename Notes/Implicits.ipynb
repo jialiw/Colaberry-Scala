{
 "cells": [
  {
   "cell_type": "markdown",
   "metadata": {},
   "source": [
    "## Implicit class"
   ]
  },
  {
   "cell_type": "code",
   "execution_count": 1,
   "metadata": {
    "collapsed": true
   },
   "outputs": [],
   "source": [
    "abstract class Shape \n",
    "case class Sqaure(s:Int) extends Shape\n",
    "case class Rectangle (l:Int, b:Int) extends Shape"
   ]
  },
  {
   "cell_type": "code",
   "execution_count": 2,
   "metadata": {
    "collapsed": true
   },
   "outputs": [],
   "source": [
    "implicit class RectangleHelper (l:Int) {\n",
    "    def x(b:Int) = Rectangle(l,b)\n",
    "}"
   ]
  },
  {
   "cell_type": "code",
   "execution_count": 5,
   "metadata": {
    "collapsed": false
   },
   "outputs": [
    {
     "name": "stdout",
     "output_type": "stream",
     "text": [
      "Rectangle(5,4)\n"
     ]
    }
   ],
   "source": [
    "val r = 5 x 4 // scala will search all functions and libs to find the meaning of \"x\"\n",
    "println(r)"
   ]
  },
  {
   "cell_type": "code",
   "execution_count": 4,
   "metadata": {
    "collapsed": true
   },
   "outputs": [],
   "source": [
    "val r = RectangleHelper(5).x(4) // the formal format for above example"
   ]
  },
  {
   "cell_type": "markdown",
   "metadata": {},
   "source": [
    "## Implicit Parameters"
   ]
  },
  {
   "cell_type": "code",
   "execution_count": 6,
   "metadata": {
    "collapsed": true
   },
   "outputs": [],
   "source": [
    "// case class has 5 different features from normal class\n",
    "// 1. no need to have \"new\" keyword when instanizing\n",
    "// 2. println() will print method name and parameter\n",
    "// 3. pattern matching\n",
    "// 4. no getter and setter needed, parameter automatically transfer to become class variable\n",
    "// 5. built in equals method\n",
    "case class ErrorPrompt(p:String) \n",
    "def logError(msg:String, prompt:ErrorPrompt)={\n",
    "    println(prompt.p + msg)\n",
    "}"
   ]
  },
  {
   "cell_type": "code",
   "execution_count": 7,
   "metadata": {
    "collapsed": false
   },
   "outputs": [
    {
     "name": "stdout",
     "output_type": "stream",
     "text": [
      "$> Hello\n"
     ]
    }
   ],
   "source": [
    "logError(\"Hello\", ErrorPrompt(\"$> \"))"
   ]
  },
  {
   "cell_type": "code",
   "execution_count": 8,
   "metadata": {
    "collapsed": true
   },
   "outputs": [],
   "source": [
    "implicit val prompt:ErrorPrompt = ErrorPrompt(\"hello> \")"
   ]
  },
  {
   "cell_type": "code",
   "execution_count": 9,
   "metadata": {
    "collapsed": false
   },
   "outputs": [
    {
     "data": {
      "text/plain": [
       "Name: Compile Error\n",
       "Message: <console>:29: error: not enough arguments for method logError: (msg: String, prompt: ErrorPrompt)Unit.\n",
       "Unspecified value parameter prompt.\n",
       "              logError(\"Implicits are nice\")\n",
       "                      ^\n",
       "StackTrace: "
      ]
     },
     "execution_count": 9,
     "metadata": {},
     "output_type": "execute_result"
    }
   ],
   "source": [
    "logError(\"Implicits are nice\")"
   ]
  },
  {
   "cell_type": "code",
   "execution_count": 10,
   "metadata": {
    "collapsed": true
   },
   "outputs": [],
   "source": [
    "def logError(msg:String)(implicit prompt:ErrorPrompt)={ // here the second parameter is implicit \n",
    "    println(prompt.p + msg)\n",
    "}"
   ]
  },
  {
   "cell_type": "code",
   "execution_count": 11,
   "metadata": {
    "collapsed": false
   },
   "outputs": [
    {
     "name": "stdout",
     "output_type": "stream",
     "text": [
      "hello> Implicits are nice\n"
     ]
    }
   ],
   "source": [
    "logError(\"Implicits are nice\") // missing 2nd parameter but still ok as 2nd parameter is implicit with default value "
   ]
  },
  {
   "cell_type": "code",
   "execution_count": 13,
   "metadata": {
    "collapsed": false
   },
   "outputs": [
    {
     "name": "stdout",
     "output_type": "stream",
     "text": [
      "hello> \n"
     ]
    }
   ],
   "source": [
    "println(implicitly[ErrorPrompt].p) // return the default value "
   ]
  },
  {
   "cell_type": "code",
   "execution_count": 14,
   "metadata": {
    "collapsed": true
   },
   "outputs": [],
   "source": [
    "implicit val prompt2: ErrorPrompt = ErrorPrompt (\"$> \") // for each type, there could be only 1 inplicit parameter"
   ]
  },
  {
   "cell_type": "code",
   "execution_count": 15,
   "metadata": {
    "collapsed": false
   },
   "outputs": [
    {
     "data": {
      "text/plain": [
       "Name: Compile Error\n",
       "Message: <console>:31: error: ambiguous implicit values:\n",
       " both value prompt of type => ErrorPrompt\n",
       " and value prompt2 of type => ErrorPrompt\n",
       " match expected type ErrorPrompt\n",
       "              logError(\"Implicits are nice, but could be confusing if there are one too many\")\n",
       "                      ^\n",
       "StackTrace: "
      ]
     },
     "execution_count": 15,
     "metadata": {},
     "output_type": "execute_result"
    }
   ],
   "source": [
    "logError(\"Implicits are nice, but could be confusing if there are one too many\")"
   ]
  },
  {
   "cell_type": "code",
   "execution_count": null,
   "metadata": {
    "collapsed": true
   },
   "outputs": [],
   "source": []
  }
 ],
 "metadata": {
  "kernelspec": {
   "display_name": "Apache Toree - Scala",
   "language": "scala",
   "name": "apache_toree_scala"
  },
  "language_info": {
   "name": "scala",
   "version": "2.10.4"
  },
  "widgets": {
   "state": {},
   "version": "1.1.2"
  }
 },
 "nbformat": 4,
 "nbformat_minor": 0
}
