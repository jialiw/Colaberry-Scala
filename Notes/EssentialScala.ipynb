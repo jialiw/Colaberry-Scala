{
 "cells": [
  {
   "cell_type": "markdown",
   "metadata": {},
   "source": [
    "## Markdown is **html** markdown notes \n",
    "check markdown syntax \n",
    "* first item \n",
    "* second item\n",
    "* third item \n",
    "\n"
   ]
  },
  {
   "cell_type": "markdown",
   "metadata": {
    "collapsed": true
   },
   "source": [
    "each line in scala is an expression, which could have some results"
   ]
  },
  {
   "cell_type": "code",
   "execution_count": 2,
   "metadata": {
    "collapsed": false
   },
   "outputs": [
    {
     "name": "stdout",
     "output_type": "stream",
     "text": [
      "Hello, World!\n"
     ]
    }
   ],
   "source": [
    "println(\"Hello, World!\")"
   ]
  },
  {
   "cell_type": "code",
   "execution_count": 3,
   "metadata": {
    "collapsed": false
   },
   "outputs": [
    {
     "data": {
      "text/plain": [
       "Name: Syntax Error.\n",
       "Message: \n",
       "StackTrace: "
      ]
     },
     "execution_count": 3,
     "metadata": {},
     "output_type": "execute_result"
    }
   ],
   "source": [
    "val name = \"Buddy\"\n",
    "// val: value, immutable, cannot be changed once defined \n",
    "// var: variable, place holder, re-useable, mutable \n",
    "// everything is changing the data is bad for functional programming (mutable): because need to using locking, multi-threading...\n",
    "// everything will not change the data is a good functional programming design: no need to worry about locking, take advantage of distribution since all works are independent \n",
    "// SO MAKE CODE IMMUTABLE --> PARAELLEL coding (GOOD)\n",
    "\n",
    "// How to make immutable? \n",
    "// I will not store anything\n",
    "// give me the input\n",
    "// I will give the output after processing to the next \"guy\"\n",
    "\n",
    "\n",
    "// never change anything \n",
    "// once there is a change, make a copy and only change the copy of origional source "
   ]
  },
  {
   "cell_type": "code",
   "execution_count": 4,
   "metadata": {
    "collapsed": false
   },
   "outputs": [
    {
     "name": "stdout",
     "output_type": "stream",
     "text": [
      "Buddy\n"
     ]
    }
   ],
   "source": [
    "println(name)"
   ]
  },
  {
   "cell_type": "code",
   "execution_count": 5,
   "metadata": {
    "collapsed": false
   },
   "outputs": [
    {
     "name": "stdout",
     "output_type": "stream",
     "text": [
      "Hello, Buddy\n"
     ]
    }
   ],
   "source": [
    "println(s\"Hello, $name\")"
   ]
  },
  {
   "cell_type": "code",
   "execution_count": 6,
   "metadata": {
    "collapsed": false
   },
   "outputs": [
    {
     "data": {
      "text/plain": [
       "5"
      ]
     },
     "execution_count": 6,
     "metadata": {},
     "output_type": "execute_result"
    }
   ],
   "source": [
    "3 + 2"
   ]
  },
  {
   "cell_type": "code",
   "execution_count": 8,
   "metadata": {
    "collapsed": false
   },
   "outputs": [
    {
     "name": "stdout",
     "output_type": "stream",
     "text": [
      "5.0\n"
     ]
    }
   ],
   "source": [
    "println(3. + (2)) // . means that i take it as the number "
   ]
  },
  {
   "cell_type": "code",
   "execution_count": 9,
   "metadata": {
    "collapsed": false
   },
   "outputs": [
    {
     "data": {
      "text/plain": [
       "Name: Syntax Error.\n",
       "Message: \n",
       "StackTrace: "
      ]
     },
     "execution_count": 9,
     "metadata": {},
     "output_type": "execute_result"
    }
   ],
   "source": [
    "object MyWorld {\n",
    "    def main (args: Array[String]){\n",
    "        println(\"Hello, World\")\n",
    "    }\n",
    "}\n",
    "\n",
    "// object is class instance "
   ]
  },
  {
   "cell_type": "code",
   "execution_count": 10,
   "metadata": {
    "collapsed": false
   },
   "outputs": [
    {
     "name": "stdout",
     "output_type": "stream",
     "text": [
      "Hello, World\n"
     ]
    }
   ],
   "source": [
    "MyWorld.main(Array())"
   ]
  },
  {
   "cell_type": "code",
   "execution_count": 11,
   "metadata": {
    "collapsed": false
   },
   "outputs": [
    {
     "name": "stdout",
     "output_type": "stream",
     "text": [
      "Hello, World\n"
     ]
    }
   ],
   "source": [
    "MyWorld.main(Array(\"Great\"))"
   ]
  },
  {
   "cell_type": "code",
   "execution_count": 12,
   "metadata": {
    "collapsed": true
   },
   "outputs": [],
   "source": [
    "object MySimplerWorld extends App { //extends App makes everything inside {} the MAIN function, this is a shortcut version \n",
    "    println(\"Hello, World\")\n",
    "}"
   ]
  },
  {
   "cell_type": "code",
   "execution_count": 13,
   "metadata": {
    "collapsed": false
   },
   "outputs": [
    {
     "name": "stdout",
     "output_type": "stream",
     "text": [
      "Hello, World\n"
     ]
    }
   ],
   "source": [
    "MySimplerWorld.main(Array())"
   ]
  },
  {
   "cell_type": "code",
   "execution_count": 14,
   "metadata": {
    "collapsed": false
   },
   "outputs": [
    {
     "name": "stdout",
     "output_type": "stream",
     "text": [
      "Hello, World\n"
     ]
    }
   ],
   "source": [
    "MySimplerWorld.main(Array(\"Great\"))"
   ]
  },
  {
   "cell_type": "code",
   "execution_count": 21,
   "metadata": {
    "collapsed": false
   },
   "outputs": [],
   "source": [
    "object MySimplerWorld extends App {\n",
    "    println(args(0))\n",
    "}"
   ]
  },
  {
   "cell_type": "code",
   "execution_count": 22,
   "metadata": {
    "collapsed": false
   },
   "outputs": [
    {
     "name": "stdout",
     "output_type": "stream",
     "text": [
      "Great\n"
     ]
    }
   ],
   "source": [
    "MySimplerWorld.main(Array(\"Great\"))"
   ]
  },
  {
   "cell_type": "code",
   "execution_count": 23,
   "metadata": {
    "collapsed": true
   },
   "outputs": [],
   "source": [
    "class Person(name:String)"
   ]
  },
  {
   "cell_type": "code",
   "execution_count": 24,
   "metadata": {
    "collapsed": true
   },
   "outputs": [],
   "source": [
    "val p = new Person(\"Buddy\")"
   ]
  },
  {
   "cell_type": "code",
   "execution_count": 25,
   "metadata": {
    "collapsed": false
   },
   "outputs": [
    {
     "data": {
      "text/plain": [
       "Name: Compile Error\n",
       "Message: <console>:22: error: value name is not a member of Person\n",
       "              p.name\n",
       "                ^\n",
       "StackTrace: "
      ]
     },
     "execution_count": 25,
     "metadata": {},
     "output_type": "execute_result"
    }
   ],
   "source": [
    "p.name"
   ]
  },
  {
   "cell_type": "code",
   "execution_count": 26,
   "metadata": {
    "collapsed": true
   },
   "outputs": [],
   "source": [
    "class Person(name:String){\n",
    "    println(name)\n",
    "}"
   ]
  },
  {
   "cell_type": "code",
   "execution_count": 28,
   "metadata": {
    "collapsed": false
   },
   "outputs": [
    {
     "name": "stdout",
     "output_type": "stream",
     "text": [
      "Buddy\n"
     ]
    }
   ],
   "source": [
    "val p = new Person(\"Buddy\")"
   ]
  },
  {
   "cell_type": "code",
   "execution_count": 29,
   "metadata": {
    "collapsed": true
   },
   "outputs": [],
   "source": [
    "class Person (name:String){\n",
    "    val nameVal = name\n",
    "}"
   ]
  },
  {
   "cell_type": "code",
   "execution_count": 30,
   "metadata": {
    "collapsed": false
   },
   "outputs": [
    {
     "data": {
      "text/plain": [
       "buddy"
      ]
     },
     "execution_count": 30,
     "metadata": {},
     "output_type": "execute_result"
    }
   ],
   "source": [
    "val p = new Person(\"buddy\")\n",
    "p.nameVal"
   ]
  },
  {
   "cell_type": "code",
   "execution_count": 31,
   "metadata": {
    "collapsed": false
   },
   "outputs": [
    {
     "data": {
      "text/plain": [
       "Name: Compile Error\n",
       "Message: <console>:23: error: reassignment to val\n",
       "         p.nameVal = \"k\"\n",
       "                   ^\n",
       "StackTrace: "
      ]
     },
     "execution_count": 31,
     "metadata": {},
     "output_type": "execute_result"
    }
   ],
   "source": [
    "p.nameVal = \"k\""
   ]
  },
  {
   "cell_type": "code",
   "execution_count": 32,
   "metadata": {
    "collapsed": true
   },
   "outputs": [],
   "source": [
    "class Person (name:String){\n",
    "    var nameVal = name\n",
    "}\n",
    "val p = new Person (\"Buddy\")\n",
    "p.nameVal = \"B Buddy\""
   ]
  },
  {
   "cell_type": "code",
   "execution_count": 33,
   "metadata": {
    "collapsed": false
   },
   "outputs": [
    {
     "data": {
      "text/plain": [
       "B Buddy"
      ]
     },
     "execution_count": 33,
     "metadata": {},
     "output_type": "execute_result"
    }
   ],
   "source": [
    "p.nameVal"
   ]
  },
  {
   "cell_type": "markdown",
   "metadata": {},
   "source": [
    "scala is oop (you can still run java code) and functional languages (1. functions are first-class values here: pass a function as a parameter to another function, return a function from another function, etc.)\n",
    "\n",
    "p.s. first class means langauge itself naturally supports it to be a \"data type\"/ object, while second class means language does not support it as a data type but we can make it use later (e.g. Java supports lambda expression now. while language itself does not support function as an object) "
   ]
  },
  {
   "cell_type": "markdown",
   "metadata": {},
   "source": [
    "## Operators, Methods, Functions..."
   ]
  },
  {
   "cell_type": "code",
   "execution_count": 40,
   "metadata": {
    "collapsed": false
   },
   "outputs": [
    {
     "name": "stdout",
     "output_type": "stream",
     "text": [
      "8.0\n",
      "4\n"
     ]
    }
   ],
   "source": [
    "class GreatNumber(n: Int) {\n",
    "    require (n>0)\n",
    "    \n",
    "    private var _n:Int = n\n",
    "    def ^(p:Int) = scala.math.pow(_n,p) //when need to use method, use keyword: def, and here the function name is \"^\"\n",
    "    def squared() = _n*_n\n",
    "}\n",
    "\n",
    "val c = new GreatNumber(2)\n",
    "println (c ^ 3) // fp way to call function == c.^(3)\n",
    "println (c squared) // == c.squared()"
   ]
  },
  {
   "cell_type": "code",
   "execution_count": 46,
   "metadata": {
    "collapsed": false
   },
   "outputs": [
    {
     "name": "stdout",
     "output_type": "stream",
     "text": [
      "5.0\n",
      "5.0\n",
      "7.0\n"
     ]
    }
   ],
   "source": [
    "val x = (a:Int, b:Int) => { // => indicates the body of the function, here means the functions output will be returned to x\n",
    "    a+b\n",
    "}:Double // clarify the return data type of function\n",
    "\n",
    "println(x(2,3))\n",
    "val y = x\n",
    "println(y(2,3)) // here it can run because y is not reassigned the value like y = 10\n",
    "println(y(3,4))"
   ]
  },
  {
   "cell_type": "markdown",
   "metadata": {},
   "source": [
    "In scala, method and functions are slightly different. Function does not need to initalize with \"def\" keyword and function does not need to have an explicit name. For method, it must start with \"def\" and must have a clear method name. \n",
    "\n",
    "Also, function indicates its return type after the body, while method indicates its return type before the body. "
   ]
  },
  {
   "cell_type": "code",
   "execution_count": 47,
   "metadata": {
    "collapsed": false
   },
   "outputs": [
    {
     "data": {
      "text/plain": [
       "6"
      ]
     },
     "execution_count": 47,
     "metadata": {},
     "output_type": "execute_result"
    }
   ],
   "source": [
    "def method(a:Int, b:Int):Int = { // define the method return type before the body, different from functions\n",
    "    a*b\n",
    "}\n",
    "\n",
    "method(2, 3)"
   ]
  },
  {
   "cell_type": "code",
   "execution_count": null,
   "metadata": {
    "collapsed": true
   },
   "outputs": [],
   "source": [
    "val convertedFunc : (Int, Int) => Int = method "
   ]
  },
  {
   "cell_type": "code",
   "execution_count": null,
   "metadata": {
    "collapsed": true
   },
   "outputs": [],
   "source": [
    "convertedFunc(5,9)"
   ]
  },
  {
   "cell_type": "code",
   "execution_count": null,
   "metadata": {
    "collapsed": true
   },
   "outputs": [],
   "source": [
    "val convFunc = method _ // simpler syntax"
   ]
  },
  {
   "cell_type": "code",
   "execution_count": null,
   "metadata": {
    "collapsed": false
   },
   "outputs": [],
   "source": [
    "convFunc(6,5)"
   ]
  },
  {
   "cell_type": "markdown",
   "metadata": {},
   "source": [
    "## Enumerations"
   ]
  },
  {
   "cell_type": "code",
   "execution_count": 2,
   "metadata": {
    "collapsed": false
   },
   "outputs": [
    {
     "name": "stdout",
     "output_type": "stream",
     "text": [
      "TWO\n",
      "Fourteen\n"
     ]
    },
    {
     "data": {
      "text/plain": [
       "MyEnum.ValueSet(ONE, TWO, THREE, Fourteen)"
      ]
     },
     "execution_count": 2,
     "metadata": {},
     "output_type": "execute_result"
    }
   ],
   "source": [
    "object MyEnum extends Enumeration {\n",
    "    type EnumType = Value // value is used to store all enums \n",
    "    val ONE, TWO, THREE = Value\n",
    "    val FOUR = Value(14, \"Fourteen\")\n",
    "}\n",
    "\n",
    "println(MyEnum.TWO)\n",
    "val x: MyEnum.EnumType = MyEnum(14)\n",
    "println(x)\n",
    "MyEnum.values // enumeration object.values will return all enum values "
   ]
  },
  {
   "cell_type": "code",
   "execution_count": null,
   "metadata": {
    "collapsed": true
   },
   "outputs": [],
   "source": []
  }
 ],
 "metadata": {
  "kernelspec": {
   "display_name": "Apache Toree - Scala",
   "language": "scala",
   "name": "apache_toree_scala"
  },
  "language_info": {
   "name": "scala",
   "version": "2.10.4"
  },
  "widgets": {
   "state": {},
   "version": "1.1.2"
  }
 },
 "nbformat": 4,
 "nbformat_minor": 0
}
