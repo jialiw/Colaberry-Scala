{
 "cells": [
  {
   "cell_type": "markdown",
   "metadata": {},
   "source": [
    "## Future"
   ]
  },
  {
   "cell_type": "code",
   "execution_count": 1,
   "metadata": {
    "collapsed": true
   },
   "outputs": [],
   "source": [
    "import scala.concurrent._"
   ]
  },
  {
   "cell_type": "code",
   "execution_count": 2,
   "metadata": {
    "collapsed": false
   },
   "outputs": [
    {
     "data": {
      "text/plain": [
       "181"
      ]
     },
     "execution_count": 2,
     "metadata": {},
     "output_type": "execute_result"
    }
   ],
   "source": [
    "Thread.currentThread().getId()"
   ]
  },
  {
   "cell_type": "code",
   "execution_count": 5,
   "metadata": {
    "collapsed": false
   },
   "outputs": [
    {
     "data": {
      "text/plain": [
       "Name: Compile Error\n",
       "Message: <console>:21: error: Cannot find an implicit ExecutionContext, either import scala.concurrent.ExecutionContext.Implicits.global or use a custom one\n",
       "         val x = Future {\n",
       "                        ^\n",
       "StackTrace: "
      ]
     },
     "execution_count": 5,
     "metadata": {},
     "output_type": "execute_result"
    }
   ],
   "source": [
    "val x = Future {\n",
    "  println(\"This is my first future\")\n",
    "  println(\"Thread ID: \" + Thread.currentThread().getId)\n",
    "}"
   ]
  },
  {
   "cell_type": "code",
   "execution_count": null,
   "metadata": {
    "collapsed": true
   },
   "outputs": [],
   "source": [
    "// although these 5 threads will start ALMOST at the same time (maybe still follow 1 --> 5 order at that time)\n",
    "// there is no guarantee that the result will follow the same order\n",
    "// each time as they are almost parallel \n",
    "import scala.concurrent._\n",
    "import scala.concurrent.ExecutionContext.Implicits.global\n",
    "\n",
    "List(1,2,3,4,5).map(x => Future {\n",
    "    Thread.sleep(2000) // each thread will be slept for 2s and then execute the following code\n",
    "    println(\"Item \" + x + \"ThreadID: \" + Thread.currentThread().getId()) \n",
    "})"
   ]
  },
  {
   "cell_type": "code",
   "execution_count": 6,
   "metadata": {
    "collapsed": false
   },
   "outputs": [
    {
     "data": {
      "text/plain": [
       "Name: Compile Error\n",
       "Message: <console>:21: error: Cannot find an implicit ExecutionContext, either import scala.concurrent.ExecutionContext.Implicits.global or use a custom one\n",
       "         val x = Future {\n",
       "                        ^\n",
       "StackTrace: "
      ]
     },
     "execution_count": 6,
     "metadata": {},
     "output_type": "execute_result"
    }
   ],
   "source": [
    "val x = Future {\n",
    "    Thread.currentThread().getId()\n",
    "}"
   ]
  },
  {
   "cell_type": "code",
   "execution_count": null,
   "metadata": {
    "collapsed": true
   },
   "outputs": [],
   "source": [
    "import scala.util.{Success, Failure}\n",
    "\n",
    "val x = Future {\n",
    "    Thread.currentThread().getId()\n",
    "}\n",
    "\n",
    "// onSuccess will only be called when the future is success\n",
    "// onFailure will only be called when the future is failed\n",
    "x onComplete { // onComplete is always called, a method for Future\n",
    "    case Success(res) => { // res is not  result, we do not need to give data type as Scala is inference language, it will automatically check the data type\n",
    "        println(res)\n",
    "        println(\"OnSuccess: \" + x + \" ThreadID: \" + Thread.currentThread().getId())\n",
    "    }\n",
    "    case _ => println(\"Error\")\n",
    "}"
   ]
  },
  {
   "cell_type": "code",
   "execution_count": null,
   "metadata": {
    "collapsed": true
   },
   "outputs": [],
   "source": [
    "// How to make sure we wait until everything is completed, to do something\n",
    "import scala.concurrent._\n",
    "import scala.concurrent.ExecutionContext.Implicits.global\n",
    "\n",
    "println(\"Main ThreadID: \" + Thread.currentThread().getId())\n",
    "\n",
    "Future.sequence( // sequence method is to make sure no future action till current all futures are completed \n",
    "List(1,2,3,4,5).map(x => Future {\n",
    "    Thread.sleep(2000) // each thread will be slept for 2s and then execute the following code\n",
    "    println(\"Item \" + x + \"ThreadID: \" + Thread.currentThread().getId()) \n",
    "})).map(x =>{\n",
    "    println(\"Completed. Do something now\")\n",
    "    println(\"After all done ThreadID: \" + Thread.currentThread().getId())\n",
    "})"
   ]
  },
  {
   "cell_type": "code",
   "execution_count": null,
   "metadata": {
    "collapsed": true
   },
   "outputs": [],
   "source": [
    "//block until futures are completed\n",
    "import scala.concurrent._\n",
    "import scala.concurrent.ExecutionContext.Implicits.global\n",
    "\n",
    "\n",
    "// await.ready is similar with future.sequence except await.ready is a blocking method while future.sequence is non-blocking method\n",
    "// so when there is an indepedent code right after the block, for sequence, this code will be executed, while await will not be run\n",
    "Await.ready(\n",
    "   Future.sequence(\n",
    "    List(1,2,3,4,5).map(x => Future {\n",
    "    Thread.sleep(2000) // each thread will be slept for 2s and then execute the following code\n",
    "    println(\"Item \" + x + \"ThreadID: \" + Thread.currentThread().getId()) })), duration.Duration.Inf\n",
    ")\n",
    "\n",
    "println(\"Now ready\")\n",
    "println(\"After all done ThreadID: \" + Thread.currentThread().getId())\n"
   ]
  },
  {
   "cell_type": "code",
   "execution_count": null,
   "metadata": {
    "collapsed": true
   },
   "outputs": [],
   "source": [
    "// folding units \n",
    "import scala.concurrent._\n",
    "import scala.concurrent.ExecutionContext.Implicits.global\n",
    "\n",
    "(Future\n",
    "    .fold(List(1,2,3,4,5)\n",
    "        .map(x => Future {\n",
    "            Thread.sleep(2000) // each thread will be slept for 2s and then execute the following code\n",
    "            println(\"Item \" + x + \"ThreadID: \" + Thread.currentThread().getId())\n",
    "            x\n",
    "        })\n",
    "    )(0){(acc,num) => acc + num } // set 0 as the initial start value for folding, then it will be like (((0 + 1)+2)+3)...\n",
    ")\n",
    ".map(x=> println(x))"
   ]
  },
  {
   "cell_type": "code",
   "execution_count": null,
   "metadata": {
    "collapsed": true
   },
   "outputs": [],
   "source": [
    "// reducing results \n",
    "import scala.concurrent._\n",
    "import scala.concurrent.ExecutionContext.Implicits.global\n",
    "\n",
    "(Future\n",
    "    .reduce(List(1,2,3,4,5)\n",
    "        .map(x => Future {\n",
    "            Thread.sleep(2000) // each thread will be slept for 2s and then execute the following code\n",
    "            println(\"Item \" + x + \"ThreadID: \" + Thread.currentThread().getId()) \n",
    "            x\n",
    "        })\n",
    "    ) {(acc, num) => acc + num } // reduce has the same effect as folding except we do not need to give the start value \n",
    ")\n",
    ".map(x=> println(x))"
   ]
  },
  {
   "cell_type": "code",
   "execution_count": null,
   "metadata": {
    "collapsed": true
   },
   "outputs": [],
   "source": []
  }
 ],
 "metadata": {
  "kernelspec": {
   "display_name": "Apache Toree - Scala",
   "language": "scala",
   "name": "apache_toree_scala"
  },
  "language_info": {
   "name": "scala",
   "version": "2.10.4"
  },
  "widgets": {
   "state": {},
   "version": "1.1.2"
  }
 },
 "nbformat": 4,
 "nbformat_minor": 0
}
